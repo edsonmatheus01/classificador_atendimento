{
  "nbformat": 4,
  "nbformat_minor": 0,
  "metadata": {
    "colab": {
      "provenance": []
    },
    "kernelspec": {
      "name": "python3",
      "display_name": "Python 3"
    },
    "language_info": {
      "name": "python"
    }
  },
  "cells": [
    {
      "cell_type": "code",
      "source": [
        "import string\n",
        "import pandas as pd\n"
      ],
      "metadata": {
        "id": "txGOsjR0PthQ"
      },
      "execution_count": 71,
      "outputs": []
    },
    {
      "cell_type": "code",
      "source": [
        "#Dicionário de palavras positivas\n",
        "palavras_positivas = ['agradável', 'atencioso', 'eficiente', 'excelente', 'ótimo', 'rápido', 'gentil','maravilhoso', 'excelente','boa']\n",
        "palavras_negativas = ['odiei', 'triste', 'raiva','horrível','arrogante', 'atrasado', 'grosseria', 'incompetente', 'péssimo', 'ruim', 'terrível']\n"
      ],
      "metadata": {
        "id": "JnAEjfloPvuP"
      },
      "execution_count": 72,
      "outputs": []
    },
    {
      "cell_type": "code",
      "source": [
        "def classificador_atendimento(nome, texto):\n",
        "  #Pré-processamento de texto: remover pontuações e converter para minúsculas\n",
        "  texto = texto.lower().translate(str.maketrans('', '', string.punctuation))\n",
        "\n",
        "  num_palavras_positivas = sum(1 for word in texto.split() if word in palavras_positivas)\n",
        "  num_palavras_negativas = sum(1 for word in texto.split() if word in palavras_negativas)\n",
        "\n",
        "  if num_palavras_positivas > num_palavras_negativas:\n",
        "    classificacao = 'positiva'\n",
        "  elif num_palavras_negativas > num_palavras_positivas:\n",
        "    classificacao = 'negativa'\n",
        "  else:\n",
        "    classificacao = 'neutra'\n",
        "\n",
        "  # Armazenamento das informações em um arquivo Excel\n",
        "\n",
        "  dados = {'Nome': [nome], 'Classificação' :[classificacao], 'Opinião':[texto]}\n",
        "  df = pd.DataFrame(dados)\n",
        "  df.to_excel('atendimentos.xlsx', index=False, header=False)\n",
        "  return classificacao\n",
        "\n",
        "\n"
      ],
      "metadata": {
        "id": "AwtMEMBuQCkh"
      },
      "execution_count": 76,
      "outputs": []
    },
    {
      "cell_type": "code",
      "source": [
        "\n",
        "nome = input(\"Qual o seu nome? \")\n",
        "texto = input(\"Qual sua opinião do atendimento? \")\n",
        "classificador_atendimento(nome, texto)"
      ],
      "metadata": {
        "colab": {
          "base_uri": "https://localhost:8080/",
          "height": 71
        },
        "id": "Qazu5aumUL46",
        "outputId": "7e305bd6-a420-4579-fe4b-b4a662e302be"
      },
      "execution_count": 77,
      "outputs": [
        {
          "name": "stdout",
          "output_type": "stream",
          "text": [
            "Qual o seu nome? joão\n",
            "Qual sua opinião do atendimento? o atendimento foi ótimo, quem me atendeu foi muito gentil e eficiente\n"
          ]
        },
        {
          "output_type": "execute_result",
          "data": {
            "text/plain": [
              "'positiva'"
            ],
            "application/vnd.google.colaboratory.intrinsic+json": {
              "type": "string"
            }
          },
          "metadata": {},
          "execution_count": 77
        }
      ]
    }
  ]
}